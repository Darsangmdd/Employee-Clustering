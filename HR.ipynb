{
  "nbformat": 4,
  "nbformat_minor": 0,
  "metadata": {
    "colab": {
      "name": "HR.ipynb",
      "provenance": [],
      "authorship_tag": "ABX9TyNJJQLu8u3SfuC6CtFEHx5H",
      "include_colab_link": true
    },
    "kernelspec": {
      "name": "python3",
      "display_name": "Python 3"
    },
    "language_info": {
      "name": "python"
    }
  },
  "cells": [
    {
      "cell_type": "markdown",
      "metadata": {
        "id": "view-in-github",
        "colab_type": "text"
      },
      "source": [
        "<a href=\"https://colab.research.google.com/github/Darsangmdd/Employee-Clustering/blob/main/HR.ipynb\" target=\"_parent\"><img src=\"https://colab.research.google.com/assets/colab-badge.svg\" alt=\"Open In Colab\"/></a>"
      ]
    },
    {
      "cell_type": "markdown",
      "metadata": {
        "id": "G5ZeXqp9ZIsC"
      },
      "source": [
        "# **EMPLOYEE CLUSTERING**"
      ]
    },
    {
      "cell_type": "code",
      "metadata": {
        "colab": {
          "base_uri": "https://localhost:8080/",
          "height": 195
        },
        "id": "6kR7OQDwGVjC",
        "outputId": "852fc214-0e42-423d-cb38-69d382c09708"
      },
      "source": [
        "import pandas as pd\n",
        "import numpy as np\n",
        "import matplotlib.pyplot as plt\n",
        "%matplotlib inline \n",
        "import seaborn as sns\n",
        "dataset = pd.read_csv('HRdata.csv')\n",
        "dataset.head()"
      ],
      "execution_count": 1,
      "outputs": [
        {
          "output_type": "execute_result",
          "data": {
            "text/html": [
              "<div>\n",
              "<style scoped>\n",
              "    .dataframe tbody tr th:only-of-type {\n",
              "        vertical-align: middle;\n",
              "    }\n",
              "\n",
              "    .dataframe tbody tr th {\n",
              "        vertical-align: top;\n",
              "    }\n",
              "\n",
              "    .dataframe thead th {\n",
              "        text-align: right;\n",
              "    }\n",
              "</style>\n",
              "<table border=\"1\" class=\"dataframe\">\n",
              "  <thead>\n",
              "    <tr style=\"text-align: right;\">\n",
              "      <th></th>\n",
              "      <th>Unnamed: 0</th>\n",
              "      <th>Gender</th>\n",
              "      <th>Age</th>\n",
              "      <th>Senior</th>\n",
              "      <th>Region</th>\n",
              "      <th>Department</th>\n",
              "      <th>Statu</th>\n",
              "      <th>Martial</th>\n",
              "      <th>Education Level</th>\n",
              "      <th>Disability</th>\n",
              "      <th>Salary</th>\n",
              "    </tr>\n",
              "  </thead>\n",
              "  <tbody>\n",
              "    <tr>\n",
              "      <th>0</th>\n",
              "      <td>0</td>\n",
              "      <td>Male</td>\n",
              "      <td>37</td>\n",
              "      <td>3</td>\n",
              "      <td>Region 1</td>\n",
              "      <td>Department ID: 1</td>\n",
              "      <td>White-Collar</td>\n",
              "      <td>Married</td>\n",
              "      <td>Education Level: 6</td>\n",
              "      <td>No</td>\n",
              "      <td>14968.28</td>\n",
              "    </tr>\n",
              "    <tr>\n",
              "      <th>1</th>\n",
              "      <td>1</td>\n",
              "      <td>Male</td>\n",
              "      <td>37</td>\n",
              "      <td>5</td>\n",
              "      <td>Region 1</td>\n",
              "      <td>Department ID: 1</td>\n",
              "      <td>White-Collar</td>\n",
              "      <td>Married</td>\n",
              "      <td>Education Level: 6</td>\n",
              "      <td>No</td>\n",
              "      <td>9352.53</td>\n",
              "    </tr>\n",
              "    <tr>\n",
              "      <th>2</th>\n",
              "      <td>2</td>\n",
              "      <td>Male</td>\n",
              "      <td>33</td>\n",
              "      <td>1</td>\n",
              "      <td>Region 1</td>\n",
              "      <td>Department ID: 1</td>\n",
              "      <td>White-Collar</td>\n",
              "      <td>Married</td>\n",
              "      <td>Education Level: 6</td>\n",
              "      <td>No</td>\n",
              "      <td>7814.28</td>\n",
              "    </tr>\n",
              "    <tr>\n",
              "      <th>3</th>\n",
              "      <td>3</td>\n",
              "      <td>Male</td>\n",
              "      <td>28</td>\n",
              "      <td>1</td>\n",
              "      <td>Region 1</td>\n",
              "      <td>Department ID: 1</td>\n",
              "      <td>White-Collar</td>\n",
              "      <td>Single</td>\n",
              "      <td>Education Level: 6</td>\n",
              "      <td>No</td>\n",
              "      <td>8545.82</td>\n",
              "    </tr>\n",
              "    <tr>\n",
              "      <th>4</th>\n",
              "      <td>4</td>\n",
              "      <td>Female</td>\n",
              "      <td>27</td>\n",
              "      <td>3</td>\n",
              "      <td>Region 1</td>\n",
              "      <td>Department ID: 1</td>\n",
              "      <td>White-Collar</td>\n",
              "      <td>Single</td>\n",
              "      <td>Education Level: 6</td>\n",
              "      <td>No</td>\n",
              "      <td>5756.46</td>\n",
              "    </tr>\n",
              "  </tbody>\n",
              "</table>\n",
              "</div>"
            ],
            "text/plain": [
              "   Unnamed: 0  Gender  Age  ...     Education Level Disability    Salary\n",
              "0           0    Male   37  ...  Education Level: 6         No  14968.28\n",
              "1           1    Male   37  ...  Education Level: 6         No   9352.53\n",
              "2           2    Male   33  ...  Education Level: 6         No   7814.28\n",
              "3           3    Male   28  ...  Education Level: 6         No   8545.82\n",
              "4           4  Female   27  ...  Education Level: 6         No   5756.46\n",
              "\n",
              "[5 rows x 11 columns]"
            ]
          },
          "metadata": {
            "tags": []
          },
          "execution_count": 1
        }
      ]
    },
    {
      "cell_type": "code",
      "metadata": {
        "colab": {
          "base_uri": "https://localhost:8080/"
        },
        "id": "vhm6wDIQGuBl",
        "outputId": "3b150de5-9c61-4ed5-95dd-3729dfcdfc1b"
      },
      "source": [
        "dataset.isnull().sum()"
      ],
      "execution_count": 2,
      "outputs": [
        {
          "output_type": "execute_result",
          "data": {
            "text/plain": [
              "Unnamed: 0         0\n",
              "Gender             0\n",
              "Age                0\n",
              "Senior             0\n",
              "Region             0\n",
              "Department         0\n",
              "Statu              0\n",
              "Martial            0\n",
              "Education Level    0\n",
              "Disability         0\n",
              "Salary             0\n",
              "dtype: int64"
            ]
          },
          "metadata": {
            "tags": []
          },
          "execution_count": 2
        }
      ]
    },
    {
      "cell_type": "code",
      "metadata": {
        "colab": {
          "base_uri": "https://localhost:8080/"
        },
        "id": "DWMuH2i8G6hd",
        "outputId": "62bd60df-78bf-4d88-ceca-7cb4be927259"
      },
      "source": [
        "dataset.columns"
      ],
      "execution_count": 3,
      "outputs": [
        {
          "output_type": "execute_result",
          "data": {
            "text/plain": [
              "Index(['Unnamed: 0', 'Gender', 'Age', 'Senior', 'Region', 'Department',\n",
              "       'Statu', 'Martial', 'Education Level', 'Disability', 'Salary'],\n",
              "      dtype='object')"
            ]
          },
          "metadata": {
            "tags": []
          },
          "execution_count": 3
        }
      ]
    },
    {
      "cell_type": "code",
      "metadata": {
        "colab": {
          "base_uri": "https://localhost:8080/",
          "height": 402
        },
        "id": "KMuERsTzGy-8",
        "outputId": "6390a9df-8f7d-4eb8-f87c-8ec6444dff72"
      },
      "source": [
        "dataset.drop(columns = 'Unnamed: 0', inplace = True)\n",
        "dataset"
      ],
      "execution_count": 4,
      "outputs": [
        {
          "output_type": "execute_result",
          "data": {
            "text/html": [
              "<div>\n",
              "<style scoped>\n",
              "    .dataframe tbody tr th:only-of-type {\n",
              "        vertical-align: middle;\n",
              "    }\n",
              "\n",
              "    .dataframe tbody tr th {\n",
              "        vertical-align: top;\n",
              "    }\n",
              "\n",
              "    .dataframe thead th {\n",
              "        text-align: right;\n",
              "    }\n",
              "</style>\n",
              "<table border=\"1\" class=\"dataframe\">\n",
              "  <thead>\n",
              "    <tr style=\"text-align: right;\">\n",
              "      <th></th>\n",
              "      <th>Gender</th>\n",
              "      <th>Age</th>\n",
              "      <th>Senior</th>\n",
              "      <th>Region</th>\n",
              "      <th>Department</th>\n",
              "      <th>Statu</th>\n",
              "      <th>Martial</th>\n",
              "      <th>Education Level</th>\n",
              "      <th>Disability</th>\n",
              "      <th>Salary</th>\n",
              "    </tr>\n",
              "  </thead>\n",
              "  <tbody>\n",
              "    <tr>\n",
              "      <th>0</th>\n",
              "      <td>Male</td>\n",
              "      <td>37</td>\n",
              "      <td>3</td>\n",
              "      <td>Region 1</td>\n",
              "      <td>Department ID: 1</td>\n",
              "      <td>White-Collar</td>\n",
              "      <td>Married</td>\n",
              "      <td>Education Level: 6</td>\n",
              "      <td>No</td>\n",
              "      <td>14968.28</td>\n",
              "    </tr>\n",
              "    <tr>\n",
              "      <th>1</th>\n",
              "      <td>Male</td>\n",
              "      <td>37</td>\n",
              "      <td>5</td>\n",
              "      <td>Region 1</td>\n",
              "      <td>Department ID: 1</td>\n",
              "      <td>White-Collar</td>\n",
              "      <td>Married</td>\n",
              "      <td>Education Level: 6</td>\n",
              "      <td>No</td>\n",
              "      <td>9352.53</td>\n",
              "    </tr>\n",
              "    <tr>\n",
              "      <th>2</th>\n",
              "      <td>Male</td>\n",
              "      <td>33</td>\n",
              "      <td>1</td>\n",
              "      <td>Region 1</td>\n",
              "      <td>Department ID: 1</td>\n",
              "      <td>White-Collar</td>\n",
              "      <td>Married</td>\n",
              "      <td>Education Level: 6</td>\n",
              "      <td>No</td>\n",
              "      <td>7814.28</td>\n",
              "    </tr>\n",
              "    <tr>\n",
              "      <th>3</th>\n",
              "      <td>Male</td>\n",
              "      <td>28</td>\n",
              "      <td>1</td>\n",
              "      <td>Region 1</td>\n",
              "      <td>Department ID: 1</td>\n",
              "      <td>White-Collar</td>\n",
              "      <td>Single</td>\n",
              "      <td>Education Level: 6</td>\n",
              "      <td>No</td>\n",
              "      <td>8545.82</td>\n",
              "    </tr>\n",
              "    <tr>\n",
              "      <th>4</th>\n",
              "      <td>Female</td>\n",
              "      <td>27</td>\n",
              "      <td>3</td>\n",
              "      <td>Region 1</td>\n",
              "      <td>Department ID: 1</td>\n",
              "      <td>White-Collar</td>\n",
              "      <td>Single</td>\n",
              "      <td>Education Level: 6</td>\n",
              "      <td>No</td>\n",
              "      <td>5756.46</td>\n",
              "    </tr>\n",
              "    <tr>\n",
              "      <th>...</th>\n",
              "      <td>...</td>\n",
              "      <td>...</td>\n",
              "      <td>...</td>\n",
              "      <td>...</td>\n",
              "      <td>...</td>\n",
              "      <td>...</td>\n",
              "      <td>...</td>\n",
              "      <td>...</td>\n",
              "      <td>...</td>\n",
              "      <td>...</td>\n",
              "    </tr>\n",
              "    <tr>\n",
              "      <th>596</th>\n",
              "      <td>Male</td>\n",
              "      <td>22</td>\n",
              "      <td>0</td>\n",
              "      <td>Region 1</td>\n",
              "      <td>Department ID: 3</td>\n",
              "      <td>Blue-Collar</td>\n",
              "      <td>Single</td>\n",
              "      <td>Education Level: 4</td>\n",
              "      <td>No</td>\n",
              "      <td>6553.21</td>\n",
              "    </tr>\n",
              "    <tr>\n",
              "      <th>597</th>\n",
              "      <td>Male</td>\n",
              "      <td>24</td>\n",
              "      <td>0</td>\n",
              "      <td>Region 1</td>\n",
              "      <td>Department ID: 14</td>\n",
              "      <td>Blue-Collar</td>\n",
              "      <td>Single</td>\n",
              "      <td>Education Level: 4</td>\n",
              "      <td>No</td>\n",
              "      <td>6553.21</td>\n",
              "    </tr>\n",
              "    <tr>\n",
              "      <th>598</th>\n",
              "      <td>Male</td>\n",
              "      <td>35</td>\n",
              "      <td>0</td>\n",
              "      <td>Region 1</td>\n",
              "      <td>Department ID: 23</td>\n",
              "      <td>Blue-Collar</td>\n",
              "      <td>Married</td>\n",
              "      <td>Education Level: 3</td>\n",
              "      <td>No</td>\n",
              "      <td>6553.21</td>\n",
              "    </tr>\n",
              "    <tr>\n",
              "      <th>599</th>\n",
              "      <td>Male</td>\n",
              "      <td>36</td>\n",
              "      <td>0</td>\n",
              "      <td>Region 1</td>\n",
              "      <td>Department ID: 23</td>\n",
              "      <td>Blue-Collar</td>\n",
              "      <td>Married</td>\n",
              "      <td>Education Level: 5</td>\n",
              "      <td>No</td>\n",
              "      <td>6553.21</td>\n",
              "    </tr>\n",
              "    <tr>\n",
              "      <th>600</th>\n",
              "      <td>Male</td>\n",
              "      <td>24</td>\n",
              "      <td>0</td>\n",
              "      <td>Region 1</td>\n",
              "      <td>Department ID: 3</td>\n",
              "      <td>Blue-Collar</td>\n",
              "      <td>Single</td>\n",
              "      <td>Education Level: 4</td>\n",
              "      <td>No</td>\n",
              "      <td>6553.21</td>\n",
              "    </tr>\n",
              "  </tbody>\n",
              "</table>\n",
              "<p>601 rows × 10 columns</p>\n",
              "</div>"
            ],
            "text/plain": [
              "     Gender  Age  Senior  ...     Education Level Disability    Salary\n",
              "0      Male   37       3  ...  Education Level: 6         No  14968.28\n",
              "1      Male   37       5  ...  Education Level: 6         No   9352.53\n",
              "2      Male   33       1  ...  Education Level: 6         No   7814.28\n",
              "3      Male   28       1  ...  Education Level: 6         No   8545.82\n",
              "4    Female   27       3  ...  Education Level: 6         No   5756.46\n",
              "..      ...  ...     ...  ...                 ...        ...       ...\n",
              "596    Male   22       0  ...  Education Level: 4         No   6553.21\n",
              "597    Male   24       0  ...  Education Level: 4         No   6553.21\n",
              "598    Male   35       0  ...  Education Level: 3         No   6553.21\n",
              "599    Male   36       0  ...  Education Level: 5         No   6553.21\n",
              "600    Male   24       0  ...  Education Level: 4         No   6553.21\n",
              "\n",
              "[601 rows x 10 columns]"
            ]
          },
          "metadata": {
            "tags": []
          },
          "execution_count": 4
        }
      ]
    },
    {
      "cell_type": "code",
      "metadata": {
        "id": "nFT0d8nBHA7S"
      },
      "source": [
        "data = dataset.copy()"
      ],
      "execution_count": 5,
      "outputs": []
    },
    {
      "cell_type": "code",
      "metadata": {
        "id": "mrEbx_3PIceh"
      },
      "source": [
        "data['Gender'] = data['Gender'].replace({'Male':1,'Female':0})"
      ],
      "execution_count": 6,
      "outputs": []
    },
    {
      "cell_type": "code",
      "metadata": {
        "colab": {
          "base_uri": "https://localhost:8080/",
          "height": 402
        },
        "id": "fOZcqJdfIo3d",
        "outputId": "400b3f1b-77f2-4355-fd2a-ab2028ffc952"
      },
      "source": [
        "data"
      ],
      "execution_count": 7,
      "outputs": [
        {
          "output_type": "execute_result",
          "data": {
            "text/html": [
              "<div>\n",
              "<style scoped>\n",
              "    .dataframe tbody tr th:only-of-type {\n",
              "        vertical-align: middle;\n",
              "    }\n",
              "\n",
              "    .dataframe tbody tr th {\n",
              "        vertical-align: top;\n",
              "    }\n",
              "\n",
              "    .dataframe thead th {\n",
              "        text-align: right;\n",
              "    }\n",
              "</style>\n",
              "<table border=\"1\" class=\"dataframe\">\n",
              "  <thead>\n",
              "    <tr style=\"text-align: right;\">\n",
              "      <th></th>\n",
              "      <th>Gender</th>\n",
              "      <th>Age</th>\n",
              "      <th>Senior</th>\n",
              "      <th>Region</th>\n",
              "      <th>Department</th>\n",
              "      <th>Statu</th>\n",
              "      <th>Martial</th>\n",
              "      <th>Education Level</th>\n",
              "      <th>Disability</th>\n",
              "      <th>Salary</th>\n",
              "    </tr>\n",
              "  </thead>\n",
              "  <tbody>\n",
              "    <tr>\n",
              "      <th>0</th>\n",
              "      <td>1</td>\n",
              "      <td>37</td>\n",
              "      <td>3</td>\n",
              "      <td>Region 1</td>\n",
              "      <td>Department ID: 1</td>\n",
              "      <td>White-Collar</td>\n",
              "      <td>Married</td>\n",
              "      <td>Education Level: 6</td>\n",
              "      <td>No</td>\n",
              "      <td>14968.28</td>\n",
              "    </tr>\n",
              "    <tr>\n",
              "      <th>1</th>\n",
              "      <td>1</td>\n",
              "      <td>37</td>\n",
              "      <td>5</td>\n",
              "      <td>Region 1</td>\n",
              "      <td>Department ID: 1</td>\n",
              "      <td>White-Collar</td>\n",
              "      <td>Married</td>\n",
              "      <td>Education Level: 6</td>\n",
              "      <td>No</td>\n",
              "      <td>9352.53</td>\n",
              "    </tr>\n",
              "    <tr>\n",
              "      <th>2</th>\n",
              "      <td>1</td>\n",
              "      <td>33</td>\n",
              "      <td>1</td>\n",
              "      <td>Region 1</td>\n",
              "      <td>Department ID: 1</td>\n",
              "      <td>White-Collar</td>\n",
              "      <td>Married</td>\n",
              "      <td>Education Level: 6</td>\n",
              "      <td>No</td>\n",
              "      <td>7814.28</td>\n",
              "    </tr>\n",
              "    <tr>\n",
              "      <th>3</th>\n",
              "      <td>1</td>\n",
              "      <td>28</td>\n",
              "      <td>1</td>\n",
              "      <td>Region 1</td>\n",
              "      <td>Department ID: 1</td>\n",
              "      <td>White-Collar</td>\n",
              "      <td>Single</td>\n",
              "      <td>Education Level: 6</td>\n",
              "      <td>No</td>\n",
              "      <td>8545.82</td>\n",
              "    </tr>\n",
              "    <tr>\n",
              "      <th>4</th>\n",
              "      <td>0</td>\n",
              "      <td>27</td>\n",
              "      <td>3</td>\n",
              "      <td>Region 1</td>\n",
              "      <td>Department ID: 1</td>\n",
              "      <td>White-Collar</td>\n",
              "      <td>Single</td>\n",
              "      <td>Education Level: 6</td>\n",
              "      <td>No</td>\n",
              "      <td>5756.46</td>\n",
              "    </tr>\n",
              "    <tr>\n",
              "      <th>...</th>\n",
              "      <td>...</td>\n",
              "      <td>...</td>\n",
              "      <td>...</td>\n",
              "      <td>...</td>\n",
              "      <td>...</td>\n",
              "      <td>...</td>\n",
              "      <td>...</td>\n",
              "      <td>...</td>\n",
              "      <td>...</td>\n",
              "      <td>...</td>\n",
              "    </tr>\n",
              "    <tr>\n",
              "      <th>596</th>\n",
              "      <td>1</td>\n",
              "      <td>22</td>\n",
              "      <td>0</td>\n",
              "      <td>Region 1</td>\n",
              "      <td>Department ID: 3</td>\n",
              "      <td>Blue-Collar</td>\n",
              "      <td>Single</td>\n",
              "      <td>Education Level: 4</td>\n",
              "      <td>No</td>\n",
              "      <td>6553.21</td>\n",
              "    </tr>\n",
              "    <tr>\n",
              "      <th>597</th>\n",
              "      <td>1</td>\n",
              "      <td>24</td>\n",
              "      <td>0</td>\n",
              "      <td>Region 1</td>\n",
              "      <td>Department ID: 14</td>\n",
              "      <td>Blue-Collar</td>\n",
              "      <td>Single</td>\n",
              "      <td>Education Level: 4</td>\n",
              "      <td>No</td>\n",
              "      <td>6553.21</td>\n",
              "    </tr>\n",
              "    <tr>\n",
              "      <th>598</th>\n",
              "      <td>1</td>\n",
              "      <td>35</td>\n",
              "      <td>0</td>\n",
              "      <td>Region 1</td>\n",
              "      <td>Department ID: 23</td>\n",
              "      <td>Blue-Collar</td>\n",
              "      <td>Married</td>\n",
              "      <td>Education Level: 3</td>\n",
              "      <td>No</td>\n",
              "      <td>6553.21</td>\n",
              "    </tr>\n",
              "    <tr>\n",
              "      <th>599</th>\n",
              "      <td>1</td>\n",
              "      <td>36</td>\n",
              "      <td>0</td>\n",
              "      <td>Region 1</td>\n",
              "      <td>Department ID: 23</td>\n",
              "      <td>Blue-Collar</td>\n",
              "      <td>Married</td>\n",
              "      <td>Education Level: 5</td>\n",
              "      <td>No</td>\n",
              "      <td>6553.21</td>\n",
              "    </tr>\n",
              "    <tr>\n",
              "      <th>600</th>\n",
              "      <td>1</td>\n",
              "      <td>24</td>\n",
              "      <td>0</td>\n",
              "      <td>Region 1</td>\n",
              "      <td>Department ID: 3</td>\n",
              "      <td>Blue-Collar</td>\n",
              "      <td>Single</td>\n",
              "      <td>Education Level: 4</td>\n",
              "      <td>No</td>\n",
              "      <td>6553.21</td>\n",
              "    </tr>\n",
              "  </tbody>\n",
              "</table>\n",
              "<p>601 rows × 10 columns</p>\n",
              "</div>"
            ],
            "text/plain": [
              "     Gender  Age  Senior  ...     Education Level Disability    Salary\n",
              "0         1   37       3  ...  Education Level: 6         No  14968.28\n",
              "1         1   37       5  ...  Education Level: 6         No   9352.53\n",
              "2         1   33       1  ...  Education Level: 6         No   7814.28\n",
              "3         1   28       1  ...  Education Level: 6         No   8545.82\n",
              "4         0   27       3  ...  Education Level: 6         No   5756.46\n",
              "..      ...  ...     ...  ...                 ...        ...       ...\n",
              "596       1   22       0  ...  Education Level: 4         No   6553.21\n",
              "597       1   24       0  ...  Education Level: 4         No   6553.21\n",
              "598       1   35       0  ...  Education Level: 3         No   6553.21\n",
              "599       1   36       0  ...  Education Level: 5         No   6553.21\n",
              "600       1   24       0  ...  Education Level: 4         No   6553.21\n",
              "\n",
              "[601 rows x 10 columns]"
            ]
          },
          "metadata": {
            "tags": []
          },
          "execution_count": 7
        }
      ]
    },
    {
      "cell_type": "code",
      "metadata": {
        "colab": {
          "base_uri": "https://localhost:8080/",
          "height": 402
        },
        "id": "yHBRNtqJI7I1",
        "outputId": "d7b7991a-e144-489b-ba58-4c2060d41b3b"
      },
      "source": [
        "data.Statu = data.Statu.replace({'White-Collar':1,'Blue-Collar':0})\n",
        "data"
      ],
      "execution_count": 8,
      "outputs": [
        {
          "output_type": "execute_result",
          "data": {
            "text/html": [
              "<div>\n",
              "<style scoped>\n",
              "    .dataframe tbody tr th:only-of-type {\n",
              "        vertical-align: middle;\n",
              "    }\n",
              "\n",
              "    .dataframe tbody tr th {\n",
              "        vertical-align: top;\n",
              "    }\n",
              "\n",
              "    .dataframe thead th {\n",
              "        text-align: right;\n",
              "    }\n",
              "</style>\n",
              "<table border=\"1\" class=\"dataframe\">\n",
              "  <thead>\n",
              "    <tr style=\"text-align: right;\">\n",
              "      <th></th>\n",
              "      <th>Gender</th>\n",
              "      <th>Age</th>\n",
              "      <th>Senior</th>\n",
              "      <th>Region</th>\n",
              "      <th>Department</th>\n",
              "      <th>Statu</th>\n",
              "      <th>Martial</th>\n",
              "      <th>Education Level</th>\n",
              "      <th>Disability</th>\n",
              "      <th>Salary</th>\n",
              "    </tr>\n",
              "  </thead>\n",
              "  <tbody>\n",
              "    <tr>\n",
              "      <th>0</th>\n",
              "      <td>1</td>\n",
              "      <td>37</td>\n",
              "      <td>3</td>\n",
              "      <td>Region 1</td>\n",
              "      <td>Department ID: 1</td>\n",
              "      <td>1</td>\n",
              "      <td>Married</td>\n",
              "      <td>Education Level: 6</td>\n",
              "      <td>No</td>\n",
              "      <td>14968.28</td>\n",
              "    </tr>\n",
              "    <tr>\n",
              "      <th>1</th>\n",
              "      <td>1</td>\n",
              "      <td>37</td>\n",
              "      <td>5</td>\n",
              "      <td>Region 1</td>\n",
              "      <td>Department ID: 1</td>\n",
              "      <td>1</td>\n",
              "      <td>Married</td>\n",
              "      <td>Education Level: 6</td>\n",
              "      <td>No</td>\n",
              "      <td>9352.53</td>\n",
              "    </tr>\n",
              "    <tr>\n",
              "      <th>2</th>\n",
              "      <td>1</td>\n",
              "      <td>33</td>\n",
              "      <td>1</td>\n",
              "      <td>Region 1</td>\n",
              "      <td>Department ID: 1</td>\n",
              "      <td>1</td>\n",
              "      <td>Married</td>\n",
              "      <td>Education Level: 6</td>\n",
              "      <td>No</td>\n",
              "      <td>7814.28</td>\n",
              "    </tr>\n",
              "    <tr>\n",
              "      <th>3</th>\n",
              "      <td>1</td>\n",
              "      <td>28</td>\n",
              "      <td>1</td>\n",
              "      <td>Region 1</td>\n",
              "      <td>Department ID: 1</td>\n",
              "      <td>1</td>\n",
              "      <td>Single</td>\n",
              "      <td>Education Level: 6</td>\n",
              "      <td>No</td>\n",
              "      <td>8545.82</td>\n",
              "    </tr>\n",
              "    <tr>\n",
              "      <th>4</th>\n",
              "      <td>0</td>\n",
              "      <td>27</td>\n",
              "      <td>3</td>\n",
              "      <td>Region 1</td>\n",
              "      <td>Department ID: 1</td>\n",
              "      <td>1</td>\n",
              "      <td>Single</td>\n",
              "      <td>Education Level: 6</td>\n",
              "      <td>No</td>\n",
              "      <td>5756.46</td>\n",
              "    </tr>\n",
              "    <tr>\n",
              "      <th>...</th>\n",
              "      <td>...</td>\n",
              "      <td>...</td>\n",
              "      <td>...</td>\n",
              "      <td>...</td>\n",
              "      <td>...</td>\n",
              "      <td>...</td>\n",
              "      <td>...</td>\n",
              "      <td>...</td>\n",
              "      <td>...</td>\n",
              "      <td>...</td>\n",
              "    </tr>\n",
              "    <tr>\n",
              "      <th>596</th>\n",
              "      <td>1</td>\n",
              "      <td>22</td>\n",
              "      <td>0</td>\n",
              "      <td>Region 1</td>\n",
              "      <td>Department ID: 3</td>\n",
              "      <td>0</td>\n",
              "      <td>Single</td>\n",
              "      <td>Education Level: 4</td>\n",
              "      <td>No</td>\n",
              "      <td>6553.21</td>\n",
              "    </tr>\n",
              "    <tr>\n",
              "      <th>597</th>\n",
              "      <td>1</td>\n",
              "      <td>24</td>\n",
              "      <td>0</td>\n",
              "      <td>Region 1</td>\n",
              "      <td>Department ID: 14</td>\n",
              "      <td>0</td>\n",
              "      <td>Single</td>\n",
              "      <td>Education Level: 4</td>\n",
              "      <td>No</td>\n",
              "      <td>6553.21</td>\n",
              "    </tr>\n",
              "    <tr>\n",
              "      <th>598</th>\n",
              "      <td>1</td>\n",
              "      <td>35</td>\n",
              "      <td>0</td>\n",
              "      <td>Region 1</td>\n",
              "      <td>Department ID: 23</td>\n",
              "      <td>0</td>\n",
              "      <td>Married</td>\n",
              "      <td>Education Level: 3</td>\n",
              "      <td>No</td>\n",
              "      <td>6553.21</td>\n",
              "    </tr>\n",
              "    <tr>\n",
              "      <th>599</th>\n",
              "      <td>1</td>\n",
              "      <td>36</td>\n",
              "      <td>0</td>\n",
              "      <td>Region 1</td>\n",
              "      <td>Department ID: 23</td>\n",
              "      <td>0</td>\n",
              "      <td>Married</td>\n",
              "      <td>Education Level: 5</td>\n",
              "      <td>No</td>\n",
              "      <td>6553.21</td>\n",
              "    </tr>\n",
              "    <tr>\n",
              "      <th>600</th>\n",
              "      <td>1</td>\n",
              "      <td>24</td>\n",
              "      <td>0</td>\n",
              "      <td>Region 1</td>\n",
              "      <td>Department ID: 3</td>\n",
              "      <td>0</td>\n",
              "      <td>Single</td>\n",
              "      <td>Education Level: 4</td>\n",
              "      <td>No</td>\n",
              "      <td>6553.21</td>\n",
              "    </tr>\n",
              "  </tbody>\n",
              "</table>\n",
              "<p>601 rows × 10 columns</p>\n",
              "</div>"
            ],
            "text/plain": [
              "     Gender  Age  Senior  ...     Education Level Disability    Salary\n",
              "0         1   37       3  ...  Education Level: 6         No  14968.28\n",
              "1         1   37       5  ...  Education Level: 6         No   9352.53\n",
              "2         1   33       1  ...  Education Level: 6         No   7814.28\n",
              "3         1   28       1  ...  Education Level: 6         No   8545.82\n",
              "4         0   27       3  ...  Education Level: 6         No   5756.46\n",
              "..      ...  ...     ...  ...                 ...        ...       ...\n",
              "596       1   22       0  ...  Education Level: 4         No   6553.21\n",
              "597       1   24       0  ...  Education Level: 4         No   6553.21\n",
              "598       1   35       0  ...  Education Level: 3         No   6553.21\n",
              "599       1   36       0  ...  Education Level: 5         No   6553.21\n",
              "600       1   24       0  ...  Education Level: 4         No   6553.21\n",
              "\n",
              "[601 rows x 10 columns]"
            ]
          },
          "metadata": {
            "tags": []
          },
          "execution_count": 8
        }
      ]
    },
    {
      "cell_type": "code",
      "metadata": {
        "colab": {
          "base_uri": "https://localhost:8080/"
        },
        "id": "2xf2v74zJGWc",
        "outputId": "982e4475-5bfe-4318-da99-6d685382eceb"
      },
      "source": [
        "data.Martial.unique()"
      ],
      "execution_count": 9,
      "outputs": [
        {
          "output_type": "execute_result",
          "data": {
            "text/plain": [
              "array(['Married', 'Single'], dtype=object)"
            ]
          },
          "metadata": {
            "tags": []
          },
          "execution_count": 9
        }
      ]
    },
    {
      "cell_type": "code",
      "metadata": {
        "id": "ceEXfOeWJLyG"
      },
      "source": [
        "data.Martial = data.Martial.replace({'Married':1,'Single':0})"
      ],
      "execution_count": 10,
      "outputs": []
    },
    {
      "cell_type": "code",
      "metadata": {
        "colab": {
          "base_uri": "https://localhost:8080/",
          "height": 402
        },
        "id": "7c4hbJ2NJe1e",
        "outputId": "fafadbb4-00ea-4044-ed84-b87b55454762"
      },
      "source": [
        "data"
      ],
      "execution_count": 11,
      "outputs": [
        {
          "output_type": "execute_result",
          "data": {
            "text/html": [
              "<div>\n",
              "<style scoped>\n",
              "    .dataframe tbody tr th:only-of-type {\n",
              "        vertical-align: middle;\n",
              "    }\n",
              "\n",
              "    .dataframe tbody tr th {\n",
              "        vertical-align: top;\n",
              "    }\n",
              "\n",
              "    .dataframe thead th {\n",
              "        text-align: right;\n",
              "    }\n",
              "</style>\n",
              "<table border=\"1\" class=\"dataframe\">\n",
              "  <thead>\n",
              "    <tr style=\"text-align: right;\">\n",
              "      <th></th>\n",
              "      <th>Gender</th>\n",
              "      <th>Age</th>\n",
              "      <th>Senior</th>\n",
              "      <th>Region</th>\n",
              "      <th>Department</th>\n",
              "      <th>Statu</th>\n",
              "      <th>Martial</th>\n",
              "      <th>Education Level</th>\n",
              "      <th>Disability</th>\n",
              "      <th>Salary</th>\n",
              "    </tr>\n",
              "  </thead>\n",
              "  <tbody>\n",
              "    <tr>\n",
              "      <th>0</th>\n",
              "      <td>1</td>\n",
              "      <td>37</td>\n",
              "      <td>3</td>\n",
              "      <td>Region 1</td>\n",
              "      <td>Department ID: 1</td>\n",
              "      <td>1</td>\n",
              "      <td>1</td>\n",
              "      <td>Education Level: 6</td>\n",
              "      <td>No</td>\n",
              "      <td>14968.28</td>\n",
              "    </tr>\n",
              "    <tr>\n",
              "      <th>1</th>\n",
              "      <td>1</td>\n",
              "      <td>37</td>\n",
              "      <td>5</td>\n",
              "      <td>Region 1</td>\n",
              "      <td>Department ID: 1</td>\n",
              "      <td>1</td>\n",
              "      <td>1</td>\n",
              "      <td>Education Level: 6</td>\n",
              "      <td>No</td>\n",
              "      <td>9352.53</td>\n",
              "    </tr>\n",
              "    <tr>\n",
              "      <th>2</th>\n",
              "      <td>1</td>\n",
              "      <td>33</td>\n",
              "      <td>1</td>\n",
              "      <td>Region 1</td>\n",
              "      <td>Department ID: 1</td>\n",
              "      <td>1</td>\n",
              "      <td>1</td>\n",
              "      <td>Education Level: 6</td>\n",
              "      <td>No</td>\n",
              "      <td>7814.28</td>\n",
              "    </tr>\n",
              "    <tr>\n",
              "      <th>3</th>\n",
              "      <td>1</td>\n",
              "      <td>28</td>\n",
              "      <td>1</td>\n",
              "      <td>Region 1</td>\n",
              "      <td>Department ID: 1</td>\n",
              "      <td>1</td>\n",
              "      <td>0</td>\n",
              "      <td>Education Level: 6</td>\n",
              "      <td>No</td>\n",
              "      <td>8545.82</td>\n",
              "    </tr>\n",
              "    <tr>\n",
              "      <th>4</th>\n",
              "      <td>0</td>\n",
              "      <td>27</td>\n",
              "      <td>3</td>\n",
              "      <td>Region 1</td>\n",
              "      <td>Department ID: 1</td>\n",
              "      <td>1</td>\n",
              "      <td>0</td>\n",
              "      <td>Education Level: 6</td>\n",
              "      <td>No</td>\n",
              "      <td>5756.46</td>\n",
              "    </tr>\n",
              "    <tr>\n",
              "      <th>...</th>\n",
              "      <td>...</td>\n",
              "      <td>...</td>\n",
              "      <td>...</td>\n",
              "      <td>...</td>\n",
              "      <td>...</td>\n",
              "      <td>...</td>\n",
              "      <td>...</td>\n",
              "      <td>...</td>\n",
              "      <td>...</td>\n",
              "      <td>...</td>\n",
              "    </tr>\n",
              "    <tr>\n",
              "      <th>596</th>\n",
              "      <td>1</td>\n",
              "      <td>22</td>\n",
              "      <td>0</td>\n",
              "      <td>Region 1</td>\n",
              "      <td>Department ID: 3</td>\n",
              "      <td>0</td>\n",
              "      <td>0</td>\n",
              "      <td>Education Level: 4</td>\n",
              "      <td>No</td>\n",
              "      <td>6553.21</td>\n",
              "    </tr>\n",
              "    <tr>\n",
              "      <th>597</th>\n",
              "      <td>1</td>\n",
              "      <td>24</td>\n",
              "      <td>0</td>\n",
              "      <td>Region 1</td>\n",
              "      <td>Department ID: 14</td>\n",
              "      <td>0</td>\n",
              "      <td>0</td>\n",
              "      <td>Education Level: 4</td>\n",
              "      <td>No</td>\n",
              "      <td>6553.21</td>\n",
              "    </tr>\n",
              "    <tr>\n",
              "      <th>598</th>\n",
              "      <td>1</td>\n",
              "      <td>35</td>\n",
              "      <td>0</td>\n",
              "      <td>Region 1</td>\n",
              "      <td>Department ID: 23</td>\n",
              "      <td>0</td>\n",
              "      <td>1</td>\n",
              "      <td>Education Level: 3</td>\n",
              "      <td>No</td>\n",
              "      <td>6553.21</td>\n",
              "    </tr>\n",
              "    <tr>\n",
              "      <th>599</th>\n",
              "      <td>1</td>\n",
              "      <td>36</td>\n",
              "      <td>0</td>\n",
              "      <td>Region 1</td>\n",
              "      <td>Department ID: 23</td>\n",
              "      <td>0</td>\n",
              "      <td>1</td>\n",
              "      <td>Education Level: 5</td>\n",
              "      <td>No</td>\n",
              "      <td>6553.21</td>\n",
              "    </tr>\n",
              "    <tr>\n",
              "      <th>600</th>\n",
              "      <td>1</td>\n",
              "      <td>24</td>\n",
              "      <td>0</td>\n",
              "      <td>Region 1</td>\n",
              "      <td>Department ID: 3</td>\n",
              "      <td>0</td>\n",
              "      <td>0</td>\n",
              "      <td>Education Level: 4</td>\n",
              "      <td>No</td>\n",
              "      <td>6553.21</td>\n",
              "    </tr>\n",
              "  </tbody>\n",
              "</table>\n",
              "<p>601 rows × 10 columns</p>\n",
              "</div>"
            ],
            "text/plain": [
              "     Gender  Age  Senior  ...     Education Level Disability    Salary\n",
              "0         1   37       3  ...  Education Level: 6         No  14968.28\n",
              "1         1   37       5  ...  Education Level: 6         No   9352.53\n",
              "2         1   33       1  ...  Education Level: 6         No   7814.28\n",
              "3         1   28       1  ...  Education Level: 6         No   8545.82\n",
              "4         0   27       3  ...  Education Level: 6         No   5756.46\n",
              "..      ...  ...     ...  ...                 ...        ...       ...\n",
              "596       1   22       0  ...  Education Level: 4         No   6553.21\n",
              "597       1   24       0  ...  Education Level: 4         No   6553.21\n",
              "598       1   35       0  ...  Education Level: 3         No   6553.21\n",
              "599       1   36       0  ...  Education Level: 5         No   6553.21\n",
              "600       1   24       0  ...  Education Level: 4         No   6553.21\n",
              "\n",
              "[601 rows x 10 columns]"
            ]
          },
          "metadata": {
            "tags": []
          },
          "execution_count": 11
        }
      ]
    },
    {
      "cell_type": "code",
      "metadata": {
        "colab": {
          "base_uri": "https://localhost:8080/"
        },
        "id": "UiukolrNJfxS",
        "outputId": "ead9b547-2091-457b-a9c4-c238202089fa"
      },
      "source": [
        "data.Disability.unique()"
      ],
      "execution_count": 12,
      "outputs": [
        {
          "output_type": "execute_result",
          "data": {
            "text/plain": [
              "array(['No', 'Yes'], dtype=object)"
            ]
          },
          "metadata": {
            "tags": []
          },
          "execution_count": 12
        }
      ]
    },
    {
      "cell_type": "code",
      "metadata": {
        "id": "bGw8oRjtJpHI"
      },
      "source": [
        "data.Disability = data.Disability.replace({'Yes':1,'No':0})"
      ],
      "execution_count": 13,
      "outputs": []
    },
    {
      "cell_type": "code",
      "metadata": {
        "colab": {
          "base_uri": "https://localhost:8080/"
        },
        "id": "MSCFbg8FJzII",
        "outputId": "ad1ce73e-fe9d-42e3-af37-813468563684"
      },
      "source": [
        "data.Region.unique()"
      ],
      "execution_count": 14,
      "outputs": [
        {
          "output_type": "execute_result",
          "data": {
            "text/plain": [
              "array(['Region 1', 'Region 2'], dtype=object)"
            ]
          },
          "metadata": {
            "tags": []
          },
          "execution_count": 14
        }
      ]
    },
    {
      "cell_type": "code",
      "metadata": {
        "id": "mL1RXiTpJ4en"
      },
      "source": [
        "data['Region'] = list(map(lambda x: x[-1],data['Region']))"
      ],
      "execution_count": 20,
      "outputs": []
    },
    {
      "cell_type": "code",
      "metadata": {
        "id": "jHwqBmdqNGE_"
      },
      "source": [
        "data['Department'] = list(map(lambda x: x[-1],data['Department']))"
      ],
      "execution_count": 22,
      "outputs": []
    },
    {
      "cell_type": "code",
      "metadata": {
        "id": "K2i2zuO9NYF5"
      },
      "source": [
        "data['Education Level'] = list(map(lambda x: x[-1],data['Education Level']))"
      ],
      "execution_count": 23,
      "outputs": []
    },
    {
      "cell_type": "code",
      "metadata": {
        "colab": {
          "base_uri": "https://localhost:8080/",
          "height": 402
        },
        "id": "jECSG87EOK3Q",
        "outputId": "fa20aceb-9fa1-4154-eb13-96088473df10"
      },
      "source": [
        "data"
      ],
      "execution_count": 24,
      "outputs": [
        {
          "output_type": "execute_result",
          "data": {
            "text/html": [
              "<div>\n",
              "<style scoped>\n",
              "    .dataframe tbody tr th:only-of-type {\n",
              "        vertical-align: middle;\n",
              "    }\n",
              "\n",
              "    .dataframe tbody tr th {\n",
              "        vertical-align: top;\n",
              "    }\n",
              "\n",
              "    .dataframe thead th {\n",
              "        text-align: right;\n",
              "    }\n",
              "</style>\n",
              "<table border=\"1\" class=\"dataframe\">\n",
              "  <thead>\n",
              "    <tr style=\"text-align: right;\">\n",
              "      <th></th>\n",
              "      <th>Gender</th>\n",
              "      <th>Age</th>\n",
              "      <th>Senior</th>\n",
              "      <th>Region</th>\n",
              "      <th>Department</th>\n",
              "      <th>Statu</th>\n",
              "      <th>Martial</th>\n",
              "      <th>Education Level</th>\n",
              "      <th>Disability</th>\n",
              "      <th>Salary</th>\n",
              "    </tr>\n",
              "  </thead>\n",
              "  <tbody>\n",
              "    <tr>\n",
              "      <th>0</th>\n",
              "      <td>1</td>\n",
              "      <td>37</td>\n",
              "      <td>3</td>\n",
              "      <td>1</td>\n",
              "      <td>1</td>\n",
              "      <td>1</td>\n",
              "      <td>1</td>\n",
              "      <td>6</td>\n",
              "      <td>0</td>\n",
              "      <td>14968.28</td>\n",
              "    </tr>\n",
              "    <tr>\n",
              "      <th>1</th>\n",
              "      <td>1</td>\n",
              "      <td>37</td>\n",
              "      <td>5</td>\n",
              "      <td>1</td>\n",
              "      <td>1</td>\n",
              "      <td>1</td>\n",
              "      <td>1</td>\n",
              "      <td>6</td>\n",
              "      <td>0</td>\n",
              "      <td>9352.53</td>\n",
              "    </tr>\n",
              "    <tr>\n",
              "      <th>2</th>\n",
              "      <td>1</td>\n",
              "      <td>33</td>\n",
              "      <td>1</td>\n",
              "      <td>1</td>\n",
              "      <td>1</td>\n",
              "      <td>1</td>\n",
              "      <td>1</td>\n",
              "      <td>6</td>\n",
              "      <td>0</td>\n",
              "      <td>7814.28</td>\n",
              "    </tr>\n",
              "    <tr>\n",
              "      <th>3</th>\n",
              "      <td>1</td>\n",
              "      <td>28</td>\n",
              "      <td>1</td>\n",
              "      <td>1</td>\n",
              "      <td>1</td>\n",
              "      <td>1</td>\n",
              "      <td>0</td>\n",
              "      <td>6</td>\n",
              "      <td>0</td>\n",
              "      <td>8545.82</td>\n",
              "    </tr>\n",
              "    <tr>\n",
              "      <th>4</th>\n",
              "      <td>0</td>\n",
              "      <td>27</td>\n",
              "      <td>3</td>\n",
              "      <td>1</td>\n",
              "      <td>1</td>\n",
              "      <td>1</td>\n",
              "      <td>0</td>\n",
              "      <td>6</td>\n",
              "      <td>0</td>\n",
              "      <td>5756.46</td>\n",
              "    </tr>\n",
              "    <tr>\n",
              "      <th>...</th>\n",
              "      <td>...</td>\n",
              "      <td>...</td>\n",
              "      <td>...</td>\n",
              "      <td>...</td>\n",
              "      <td>...</td>\n",
              "      <td>...</td>\n",
              "      <td>...</td>\n",
              "      <td>...</td>\n",
              "      <td>...</td>\n",
              "      <td>...</td>\n",
              "    </tr>\n",
              "    <tr>\n",
              "      <th>596</th>\n",
              "      <td>1</td>\n",
              "      <td>22</td>\n",
              "      <td>0</td>\n",
              "      <td>1</td>\n",
              "      <td>3</td>\n",
              "      <td>0</td>\n",
              "      <td>0</td>\n",
              "      <td>4</td>\n",
              "      <td>0</td>\n",
              "      <td>6553.21</td>\n",
              "    </tr>\n",
              "    <tr>\n",
              "      <th>597</th>\n",
              "      <td>1</td>\n",
              "      <td>24</td>\n",
              "      <td>0</td>\n",
              "      <td>1</td>\n",
              "      <td>4</td>\n",
              "      <td>0</td>\n",
              "      <td>0</td>\n",
              "      <td>4</td>\n",
              "      <td>0</td>\n",
              "      <td>6553.21</td>\n",
              "    </tr>\n",
              "    <tr>\n",
              "      <th>598</th>\n",
              "      <td>1</td>\n",
              "      <td>35</td>\n",
              "      <td>0</td>\n",
              "      <td>1</td>\n",
              "      <td>3</td>\n",
              "      <td>0</td>\n",
              "      <td>1</td>\n",
              "      <td>3</td>\n",
              "      <td>0</td>\n",
              "      <td>6553.21</td>\n",
              "    </tr>\n",
              "    <tr>\n",
              "      <th>599</th>\n",
              "      <td>1</td>\n",
              "      <td>36</td>\n",
              "      <td>0</td>\n",
              "      <td>1</td>\n",
              "      <td>3</td>\n",
              "      <td>0</td>\n",
              "      <td>1</td>\n",
              "      <td>5</td>\n",
              "      <td>0</td>\n",
              "      <td>6553.21</td>\n",
              "    </tr>\n",
              "    <tr>\n",
              "      <th>600</th>\n",
              "      <td>1</td>\n",
              "      <td>24</td>\n",
              "      <td>0</td>\n",
              "      <td>1</td>\n",
              "      <td>3</td>\n",
              "      <td>0</td>\n",
              "      <td>0</td>\n",
              "      <td>4</td>\n",
              "      <td>0</td>\n",
              "      <td>6553.21</td>\n",
              "    </tr>\n",
              "  </tbody>\n",
              "</table>\n",
              "<p>601 rows × 10 columns</p>\n",
              "</div>"
            ],
            "text/plain": [
              "     Gender  Age  Senior Region  ... Martial  Education Level  Disability    Salary\n",
              "0         1   37       3      1  ...       1                6           0  14968.28\n",
              "1         1   37       5      1  ...       1                6           0   9352.53\n",
              "2         1   33       1      1  ...       1                6           0   7814.28\n",
              "3         1   28       1      1  ...       0                6           0   8545.82\n",
              "4         0   27       3      1  ...       0                6           0   5756.46\n",
              "..      ...  ...     ...    ...  ...     ...              ...         ...       ...\n",
              "596       1   22       0      1  ...       0                4           0   6553.21\n",
              "597       1   24       0      1  ...       0                4           0   6553.21\n",
              "598       1   35       0      1  ...       1                3           0   6553.21\n",
              "599       1   36       0      1  ...       1                5           0   6553.21\n",
              "600       1   24       0      1  ...       0                4           0   6553.21\n",
              "\n",
              "[601 rows x 10 columns]"
            ]
          },
          "metadata": {
            "tags": []
          },
          "execution_count": 24
        }
      ]
    },
    {
      "cell_type": "code",
      "metadata": {
        "id": "iIZT_BhSOMFL"
      },
      "source": [
        "X = data.iloc[:,:].values"
      ],
      "execution_count": 25,
      "outputs": []
    },
    {
      "cell_type": "markdown",
      "metadata": {
        "id": "yWb1e5LpZE7x"
      },
      "source": [
        "# **K-MEANS CLUSTERING**"
      ]
    },
    {
      "cell_type": "code",
      "metadata": {
        "colab": {
          "base_uri": "https://localhost:8080/",
          "height": 295
        },
        "id": "Hl0WqOUqOa91",
        "outputId": "20aa4bff-5af4-4a06-e4aa-f2b840dda222"
      },
      "source": [
        "from sklearn.cluster import KMeans\n",
        "wcss = []\n",
        "for i in range(1, 11):\n",
        "    kmeans = KMeans(n_clusters = i, init = 'k-means++', random_state = 42)\n",
        "    kmeans.fit(X)\n",
        "    wcss.append(kmeans.inertia_)\n",
        "plt.plot(range(1, 11), wcss)\n",
        "plt.title('The Elbow Method')\n",
        "plt.xlabel('Number of clusters')\n",
        "plt.ylabel('WCSS')\n",
        "plt.show()"
      ],
      "execution_count": 26,
      "outputs": [
        {
          "output_type": "display_data",
          "data": {
            "image/png": "[encoded data removed]",
            "text/plain": [
              "<Figure size 432x288 with 1 Axes>"
            ]
          },
          "metadata": {
            "tags": [],
            "needs_background": "light"
          }
        }
      ]
    },
    {
      "cell_type": "code",
      "metadata": {
        "id": "xwuiyWfRPwzD"
      },
      "source": [
        "range_n_clusters = [2, 3, 4, 5, 6]"
      ],
      "execution_count": 28,
      "outputs": []
    },
    {
      "cell_type": "code",
      "metadata": {
        "id": "xnTBYL0OP4Xa"
      },
      "source": [
        "from sklearn.metrics import silhouette_samples, silhouette_score"
      ],
      "execution_count": 30,
      "outputs": []
    },
    {
      "cell_type": "code",
      "metadata": {
        "id": "Z-ZwbPrFQCJi"
      },
      "source": [
        "import matplotlib.cm as cm"
      ],
      "execution_count": 32,
      "outputs": []
    },
    {
      "cell_type": "code",
      "metadata": {
        "colab": {
          "base_uri": "https://localhost:8080/",
          "height": 1000
        },
        "id": "W3IhnCl6OeyD",
        "outputId": "c23dbd9a-0c9b-4a71-e756-68e118b7b1ef"
      },
      "source": [
        "for n_clusters in range_n_clusters:\n",
        "    # Create a subplot with 1 row and 2 columns\n",
        "    fig, (ax1, ax2) = plt.subplots(1, 2)\n",
        "    fig.set_size_inches(18, 7)\n",
        "\n",
        "    # The 1st subplot is the silhouette plot\n",
        "    # The silhouette coefficient can range from -1, 1 but in this example all\n",
        "    # lie within [-0.1, 1]\n",
        "    ax1.set_xlim([-0.1, 1])\n",
        "    # The (n_clusters+1)*10 is for inserting blank space between silhouette\n",
        "    # plots of individual clusters, to demarcate them clearly.\n",
        "    ax1.set_ylim([0, len(X) + (n_clusters + 1) * 10])\n",
        "\n",
        "    # Initialize the clusterer with n_clusters value and a random generator\n",
        "    # seed of 10 for reproducibility.\n",
        "    clusterer = KMeans(n_clusters=n_clusters, random_state=10)\n",
        "    cluster_labels = clusterer.fit_predict(X)\n",
        "\n",
        "    # The silhouette_score gives the average value for all the samples.\n",
        "    # This gives a perspective into the density and separation of the formed\n",
        "    # clusters\n",
        "    silhouette_avg = silhouette_score(X, cluster_labels)\n",
        "    print(\"For n_clusters =\", n_clusters,\n",
        "          \"The average silhouette_score is :\", silhouette_avg)\n",
        "\n",
        "    # Compute the silhouette scores for each sample\n",
        "    sample_silhouette_values = silhouette_samples(X, cluster_labels)\n",
        "\n",
        "    y_lower = 10\n",
        "    for i in range(n_clusters):\n",
        "        # Aggregate the silhouette scores for samples belonging to\n",
        "        # cluster i, and sort them\n",
        "        ith_cluster_silhouette_values = \\\n",
        "            sample_silhouette_values[cluster_labels == i]\n",
        "\n",
        "        ith_cluster_silhouette_values.sort()\n",
        "\n",
        "        size_cluster_i = ith_cluster_silhouette_values.shape[0]\n",
        "        y_upper = y_lower + size_cluster_i\n",
        "\n",
        "        color = cm.nipy_spectral(float(i) / n_clusters)\n",
        "        ax1.fill_betweenx(np.arange(y_lower, y_upper),\n",
        "                          0, ith_cluster_silhouette_values,\n",
        "                          facecolor=color, edgecolor=color, alpha=0.7)\n",
        "\n",
        "        # Label the silhouette plots with their cluster numbers at the middle\n",
        "        ax1.text(-0.05, y_lower + 0.5 * size_cluster_i, str(i))\n",
        "\n",
        "        # Compute the new y_lower for next plot\n",
        "        y_lower = y_upper + 10  # 10 for the 0 samples\n",
        "\n",
        "    ax1.set_title(\"The silhouette plot for the various clusters.\")\n",
        "    ax1.set_xlabel(\"The silhouette coefficient values\")\n",
        "    ax1.set_ylabel(\"Cluster label\")\n",
        "\n",
        "    # The vertical line for average silhouette score of all the values\n",
        "    ax1.axvline(x=silhouette_avg, color=\"red\", linestyle=\"--\")\n",
        "\n",
        "    ax1.set_yticks([])  # Clear the yaxis labels / ticks\n",
        "    ax1.set_xticks([-0.1, 0, 0.2, 0.4, 0.6, 0.8, 1])\n",
        "\n",
        "    # 2nd Plot showing the actual clusters formed\n",
        "    colors = cm.nipy_spectral(cluster_labels.astype(float) / n_clusters)\n",
        "    ax2.scatter(X[:, 0], X[:, 1], marker='.', s=30, lw=0, alpha=0.7,\n",
        "                c=colors, edgecolor='k')\n",
        "\n",
        "    # Labeling the clusters\n",
        "    centers = clusterer.cluster_centers_\n",
        "    # Draw white circles at cluster centers\n",
        "    ax2.scatter(centers[:, 0], centers[:, 1], marker='o',\n",
        "                c=\"white\", alpha=1, s=200, edgecolor='k')\n",
        "\n",
        "    for i, c in enumerate(centers):\n",
        "        ax2.scatter(c[0], c[1], marker='$%d$' % i, alpha=1,\n",
        "                    s=50, edgecolor='k')\n",
        "\n",
        "    ax2.set_title(\"The visualization of the clustered data.\")\n",
        "    ax2.set_xlabel(\"Feature space for the 1st feature\")\n",
        "    ax2.set_ylabel(\"Feature space for the 2nd feature\")\n",
        "\n",
        "    plt.suptitle((\"Silhouette analysis for KMeans clustering on sample data \"\n",
        "                  \"with n_clusters = %d\" % n_clusters),\n",
        "                 fontsize=14, fontweight='bold')\n",
        "\n",
        "plt.show()"
      ],
      "execution_count": 33,
      "outputs": [
        {
          "output_type": "stream",
          "text": [
            "For n_clusters = 2 The average silhouette_score is : 0.9195574977150741\n",
            "For n_clusters = 3 The average silhouette_score is : 0.8730708026444672\n",
            "For n_clusters = 4 The average silhouette_score is : 0.8402073861860571\n",
            "For n_clusters = 5 The average silhouette_score is : 0.7166083327356237\n",
            "For n_clusters = 6 The average silhouette_score is : 0.7173949812536399\n"
          ],
          "name": "stdout"
        },
        {
          "output_type": "display_data",
          "data": {
            "image/png": "[encoded data removed]",
            "text/plain": [
              "<Figure size 1296x504 with 2 Axes>"
            ]
          },
          "metadata": {
            "tags": [],
            "needs_background": "light"
          }
        },
        {
          "output_type": "display_data",
          "data": {
            "image/png": "[encoded data removed]",
            "text/plain": [
              "<Figure size 1296x504 with 2 Axes>"
            ]
          },
          "metadata": {
            "tags": [],
            "needs_background": "light"
          }
        },
        {
          "output_type": "display_data",
          "data": {
            "image/png": "[encoded data removed]",
            "text/plain": [
              "<Figure size 1296x504 with 2 Axes>"
            ]
          },
          "metadata": {
            "tags": [],
            "needs_background": "light"
          }
        },
        {
          "output_type": "display_data",
          "data": {
            "image/png": "[encoded data removed]",
            "text/plain": [
              "<Figure size 1296x504 with 2 Axes>"
            ]
          },
          "metadata": {
            "tags": [],
            "needs_background": "light"
          }
        },
        {
          "output_type": "display_data",
          "data": {
            "image/png": "[encoded data removed]",
            "text/plain": [
              "<Figure size 1296x504 with 2 Axes>"
            ]
          },
          "metadata": {
            "tags": [],
            "needs_background": "light"
          }
        }
      ]
    },
    {
      "cell_type": "code",
      "metadata": {
        "colab": {
          "base_uri": "https://localhost:8080/"
        },
        "id": "FH8Anu9SPl_J",
        "outputId": "d881b867-8ee1-49fc-e9f7-93b5eac962d2"
      },
      "source": [
        "clusterer = KMeans(n_clusters=2, random_state=10)\n",
        "cluster_labels = clusterer.fit_predict(X)\n",
        "print(cluster_labels)"
      ],
      "execution_count": 34,
      "outputs": [
        {
          "output_type": "stream",
          "text": [
            "[0 0 0 0 0 0 0 0 0 1 0 0 0 0 0 1 0 0 0 0 0 0 0 0 0 0 0 1 0 0 0 0 0 0 0 0 0\n",
            " 0 0 0 1 1 1 1 0 0 0 0 0 0 0 0 0 0 0 0 0 1 0 0 0 0 0 0 0 0 0 0 0 0 0 0 0 1\n",
            " 0 0 0 0 0 0 1 0 0 0 0 0 0 0 0 0 0 0 0 0 0 1 0 0 0 0 0 0 0 0 0 0 0 0 0 0 1\n",
            " 0 1 0 0 0 0 0 0 0 0 0 0 0 0 0 0 0 0 0 0 0 0 0 0 0 0 0 0 0 0 0 0 0 0 0 0 0\n",
            " 0 0 0 0 0 0 0 0 0 0 0 0 0 0 0 0 0 0 0 0 0 0 0 0 0 0 0 0 0 0 0 0 0 0 0 0 0\n",
            " 0 0 0 0 0 0 0 0 0 0 0 0 0 0 0 0 0 0 0 0 0 0 0 0 0 0 0 0 0 0 0 0 0 0 0 0 0\n",
            " 0 0 0 0 0 0 0 0 0 0 0 0 0 0 0 0 0 0 0 0 0 0 0 0 0 0 0 0 0 0 0 0 0 0 0 0 0\n",
            " 0 0 0 0 0 0 0 0 0 0 0 0 0 0 0 0 0 0 0 0 0 0 0 0 0 0 0 0 0 0 0 0 0 0 0 0 0\n",
            " 0 0 0 0 0 0 0 0 0 0 0 0 0 0 0 0 0 0 0 0 0 0 0 0 0 0 0 0 0 0 0 0 0 0 0 0 0\n",
            " 0 0 0 0 0 0 0 0 0 0 0 0 0 0 0 0 0 0 0 0 0 0 0 0 0 0 0 0 0 0 0 0 0 0 0 0 0\n",
            " 0 0 0 0 0 0 0 0 0 0 0 0 0 0 0 0 0 0 0 0 0 0 0 0 0 0 0 0 0 0 0 0 0 0 0 0 0\n",
            " 0 0 0 0 0 0 0 0 0 0 0 0 0 0 0 0 0 0 0 0 0 0 0 0 0 0 0 0 0 0 0 0 0 0 0 0 0\n",
            " 0 0 0 0 0 0 0 0 0 0 0 0 0 0 0 0 0 0 0 0 0 0 0 0 0 0 0 0 0 0 0 0 0 0 0 0 0\n",
            " 0 0 0 0 0 0 0 0 0 0 0 0 0 0 0 0 0 0 0 0 0 0 0 0 0 0 0 0 0 0 0 0 0 0 0 0 0\n",
            " 0 0 0 0 0 0 0 0 0 0 0 0 0 0 0 0 0 0 0 0 0 0 0 0 0 0 0 0 0 0 0 0 0 0 0 0 0\n",
            " 0 0 0 0 0 0 0 0 0 0 0 0 0 0 0 0 0 0 0 0 0 0 0 0 0 0 0 0 0 0 0 0 0 0 0 0 0\n",
            " 0 0 0 0 0 0 0 0 0]\n"
          ],
          "name": "stdout"
        }
      ]
    },
    {
      "cell_type": "markdown",
      "metadata": {
        "id": "lOi-e6QhSl-y"
      },
      "source": [
        "# **HIERARCHICAL CLUSTERING**"
      ]
    },
    {
      "cell_type": "code",
      "metadata": {
        "colab": {
          "base_uri": "https://localhost:8080/",
          "height": 295
        },
        "id": "5A0WqPS2Rjig",
        "outputId": "84bb2417-fc7e-428e-8d0c-869425d96b0d"
      },
      "source": [
        "import scipy.cluster.hierarchy as sch\n",
        "dendrogram = sch.dendrogram(sch.linkage(X, method = 'ward'))\n",
        "plt.title('Dendrogram')\n",
        "plt.xlabel('Employee')\n",
        "plt.ylabel('Euclidean distances')\n",
        "plt.show()"
      ],
      "execution_count": 37,
      "outputs": [
        {
          "output_type": "display_data",
          "data": {
            "image/png": "[encoded data removed]",
            "text/plain": [
              "<Figure size 432x288 with 1 Axes>"
            ]
          },
          "metadata": {
            "tags": [],
            "needs_background": "light"
          }
        }
      ]
    },
    {
      "cell_type": "code",
      "metadata": {
        "id": "gbgS3t1rS1Po"
      },
      "source": [
        "from sklearn.cluster import AgglomerativeClustering\n",
        "hc = AgglomerativeClustering(n_clusters = 2, affinity = 'euclidean', linkage = 'ward')\n",
        "y_hc = hc.fit_predict(X)"
      ],
      "execution_count": 39,
      "outputs": []
    },
    {
      "cell_type": "code",
      "metadata": {
        "colab": {
          "base_uri": "https://localhost:8080/"
        },
        "id": "PRtcffG4TFQ9",
        "outputId": "d76c6c05-2301-40b1-dbe5-b20f90f8922d"
      },
      "source": [
        "silhouette_avg = silhouette_score(X, y_hc)\n",
        "print(\"For n_clusters =\", 2, \"The average silhouette_score is :\", silhouette_avg)"
      ],
      "execution_count": 42,
      "outputs": [
        {
          "output_type": "stream",
          "text": [
            "For n_clusters = 2 The average silhouette_score is : 0.8763833510802035\n"
          ],
          "name": "stdout"
        }
      ]
    },
    {
      "cell_type": "code",
      "metadata": {
        "colab": {
          "base_uri": "https://localhost:8080/"
        },
        "id": "s4QsiB1OU6Jm",
        "outputId": "15f21888-8075-451c-af11-29a40a94e1ff"
      },
      "source": [
        "print(y_hc)"
      ],
      "execution_count": 43,
      "outputs": [
        {
          "output_type": "stream",
          "text": [
            "[0 1 1 1 1 1 0 0 1 0 1 1 1 1 1 0 1 1 1 1 1 1 1 1 0 1 1 0 0 0 0 0 0 1 1 1 1\n",
            " 1 1 0 0 0 0 0 1 1 1 1 1 1 1 1 1 1 1 1 1 0 0 1 1 1 1 1 1 1 1 0 1 1 1 1 1 0\n",
            " 1 1 1 1 0 0 0 1 1 1 1 0 1 1 1 1 1 1 1 1 1 0 0 1 1 0 1 1 0 1 1 1 1 1 1 0 0\n",
            " 0 0 0 1 1 1 1 0 0 0 1 1 0 0 1 1 1 1 1 1 1 1 1 1 1 1 1 1 1 1 1 1 1 1 1 1 1\n",
            " 1 1 1 1 1 1 1 1 1 1 1 1 1 1 1 1 1 1 1 1 1 1 1 1 1 1 1 1 1 1 1 1 1 1 1 1 1\n",
            " 1 1 1 1 1 1 1 1 1 1 1 1 1 1 1 1 1 1 1 1 1 1 1 1 1 1 1 1 1 1 1 1 1 1 1 1 1\n",
            " 1 1 1 1 1 1 1 1 1 1 1 1 1 1 1 1 1 1 1 1 1 1 1 1 1 1 1 1 1 1 1 1 1 1 1 1 1\n",
            " 1 1 1 1 1 1 1 1 1 1 1 1 1 1 1 1 1 1 1 1 1 1 1 1 1 1 1 1 1 1 1 1 1 1 1 1 1\n",
            " 1 1 1 1 1 1 1 1 1 1 1 1 1 1 1 1 1 1 1 1 1 1 1 1 1 1 1 1 1 1 1 1 1 1 1 1 1\n",
            " 1 1 1 1 1 1 1 1 1 1 1 1 1 1 1 1 1 1 1 1 1 1 1 1 1 1 1 1 1 1 1 1 1 1 1 1 1\n",
            " 1 1 1 1 1 1 1 1 1 1 1 1 1 1 1 1 1 1 1 1 1 1 1 1 1 1 1 1 1 1 1 1 1 1 1 1 1\n",
            " 1 1 1 1 1 1 1 1 1 1 1 1 1 1 1 1 1 1 1 1 1 1 1 1 1 1 1 1 1 1 1 1 1 1 1 1 1\n",
            " 1 1 1 1 1 1 1 1 1 1 1 1 1 1 1 1 1 1 1 1 1 1 1 1 1 1 1 1 1 1 1 1 1 1 1 1 1\n",
            " 1 1 1 1 1 1 1 1 1 1 1 1 1 1 1 1 1 1 1 1 1 1 1 1 1 1 1 1 1 1 1 1 1 1 1 1 1\n",
            " 1 1 1 1 1 1 1 1 1 1 1 1 1 1 1 1 1 1 1 1 1 1 1 1 1 1 1 1 1 1 1 1 1 1 1 1 1\n",
            " 1 1 1 1 1 1 1 1 1 1 1 1 1 1 1 1 1 1 1 1 1 1 1 1 1 1 1 1 1 1 1 1 1 1 1 1 1\n",
            " 1 1 1 1 1 1 1 1 1]\n"
          ],
          "name": "stdout"
        }
      ]
    },
    {
      "cell_type": "markdown",
      "metadata": {
        "id": "U7CfCqwFY6v0"
      },
      "source": [
        "# **DBSCAN**"
      ]
    },
    {
      "cell_type": "code",
      "metadata": {
        "id": "dQnCwm8QVWnJ"
      },
      "source": [
        "from sklearn.cluster import DBSCAN\n",
        "dbscan=DBSCAN(eps=2000,min_samples=50)\n",
        "\n",
        "\n",
        "labels=dbscan.fit_predict(X)"
      ],
      "execution_count": 67,
      "outputs": []
    },
    {
      "cell_type": "code",
      "metadata": {
        "colab": {
          "base_uri": "https://localhost:8080/"
        },
        "id": "hHwegR6UW4qu",
        "outputId": "33ccdc74-30e9-431b-9f58-9773c493db1c"
      },
      "source": [
        "print(silhouette_score(X,labels))"
      ],
      "execution_count": 68,
      "outputs": [
        {
          "output_type": "stream",
          "text": [
            "0.8763833510802035\n"
          ],
          "name": "stdout"
        }
      ]
    },
    {
      "cell_type": "code",
      "metadata": {
        "id": "uVm1gjXTW7Xt"
      },
      "source": [
        ""
      ],
      "execution_count": null,
      "outputs": []
    }
  ]
}